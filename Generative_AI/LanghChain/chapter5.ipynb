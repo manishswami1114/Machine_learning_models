{
 "cells": [
  {
   "cell_type": "markdown",
   "id": "2a5fba72",
   "metadata": {},
   "source": [
    "# Cognitive Architectures with LangGraph"
   ]
  },
  {
   "cell_type": "markdown",
   "id": "1359226a",
   "metadata": {},
   "source": [
    "### Architecture #1: LLM Call"
   ]
  },
  {
   "cell_type": "code",
   "execution_count": 6,
   "id": "caf589c2",
   "metadata": {},
   "outputs": [
    {
     "name": "stdout",
     "output_type": "stream",
     "text": [
      "{'chatbot': {'messages': ['I\\'m an artificial intelligence model, so I don\\'t have a specific \"date\" of creation in the classical sense. My training data is constantly being updated and expanded by my developers.\\n\\nHowever, I was first released to the public in 2023, as part of a larger effort to create more advanced language models like me. Since then, I\\'ve been learning and improving at an incredible pace, so I\\'m always getting better and more accurate with each passing day!']}}\n"
     ]
    }
   ],
   "source": [
    "from typing import Annotated , TypedDict\n",
    "from langgraph.graph import StateGraph , START,END\n",
    "from langgraph.graph.message import add_messages\n",
    "from langchain_ollama import OllamaLLM\n",
    "from langchain_core.messages import HumanMessage\n",
    "\n",
    "model =OllamaLLM(model=\"llama3.2:3b\")\n",
    "\n",
    "class State(TypedDict):\n",
    "    messages: Annotated[list,add_messages]\n",
    "    \n",
    "def chatbot(state: State):\n",
    "    answer = model.invoke(state[\"messages\"])\n",
    "    return {\"messages\":[answer]}\n",
    "\n",
    "\n",
    "builder = StateGraph(State)\n",
    "builder.add_node(\"chatbot\",chatbot)\n",
    "builder.add_edge(START,\"chatbot\")\n",
    "builder.add_edge(\"chatbot\",END)\n",
    "\n",
    "graph= builder.compile()\n",
    "\n",
    "input = {\"messages\": [HumanMessage(\"hi which date you created? \")]}\n",
    "for chunk in graph.stream(input):\n",
    "    print(chunk)"
   ]
  },
  {
   "cell_type": "code",
   "execution_count": 9,
   "id": "27a3f451",
   "metadata": {},
   "outputs": [
    {
     "data": {
      "image/png": "[encoded data removed]",
      "text/plain": [
       "<IPython.core.display.Image object>"
      ]
     },
     "metadata": {},
     "output_type": "display_data"
    }
   ],
   "source": [
    "from IPython.display import Image, display\n",
    "\n",
    "png_bytes = graph.get_graph().draw_mermaid_png()\n",
    "display(Image(png_bytes))"
   ]
  },
  {
   "cell_type": "markdown",
   "id": "bfbc7377",
   "metadata": {},
   "source": [
    "### Architecture #2:Chain"
   ]
  },
  {
   "cell_type": "code",
   "execution_count": 12,
   "id": "f417f0c7",
   "metadata": {},
   "outputs": [
    {
     "name": "stdout",
     "output_type": "stream",
     "text": [
      "{'sql_query': \"I'm happy to help, but I don't have any information about specific products or sales data. As a helpful assistant, I can provide general guidance on how to calculate total sales for different types of products.\\n\\nTo give you an idea, here are some common formulas used to calculate total sales:\\n\\n1. **Simple Sales Formula**: Total Sales = Number of Units Sold x Price per Unit\\n2. **Revenue Formula**: Total Revenue = (Number of Units Sold x Price per Unit) + Other Income (e.g., shipping costs, discounts)\\n3. **Gross Margin Formula**: Gross Margin = (Total Revenue - Cost of Goods Sold) / Total Revenue\\n\\nTo get more specific information about a particular product, I would need to know the following:\\n\\n1. Product category or type\\n2. Sales period (date range)\\n3. Quantity sold for each unit\\n\\nIf you provide me with this information, I can help you calculate the total sales for that product.\\n\\nAre there any specific products or scenarios you'd like to discuss?\", 'sql_explation': \"Thank you for providing general guidance on how to calculate total sales. That's really helpful!\\n\\nActually, I'm interested in calculating total sales for a specific scenario. Let me provide some context:\\n\\n* Product category: Electronics\\n* Sales period: Last year (January 1st - December 31st)\\n* Quantity sold for each unit: This is where I need help. Could you please suggest a way to determine the quantity sold per unit for each electronic product in our database?\\n\\nAssuming we have some data on the products, sales periods, and quantities sold, I'd like to calculate the total sales for each type of electronic product (e.g., smartphones, laptops, tablets). Can you guide me through this process?\"}\n"
     ]
    },
    {
     "data": {
      "image/png": "[encoded data removed]",
      "text/plain": [
       "<IPython.core.display.Image object>"
      ]
     },
     "metadata": {},
     "output_type": "display_data"
    }
   ],
   "source": [
    "from pyexpat.errors import messages\n",
    "from typing import Annotated , TypedDict \n",
    "from langchain_core.messages import HumanMessage,SystemMessage\n",
    "from langgraph.graph import END,START,StateGraph\n",
    "from langgraph.graph.message import add_messages\n",
    "from langchain_ollama import OllamaLLM\n",
    "\n",
    "model_low_temp = OllamaLLM(model=\"llama3.2:3b\",temprature = 0.3)\n",
    "\n",
    "model_high_temp = OllamaLLM(model=\"llama3.2:3b\",temprature=0.7)\n",
    "\n",
    "class State(TypedDict):\n",
    "    messages:Annotated[list,add_messages]\n",
    "    user_query:str\n",
    "    sql_query:str\n",
    "    sql_explation:str\n",
    "\n",
    "class Input(TypedDict):\n",
    "    user_query:str\n",
    "\n",
    "class Output(TypedDict):\n",
    "    sql_query:str\n",
    "    sql_explation:str\n",
    "\n",
    "generate_prompt = SystemMessage(\n",
    "    \"you are helpful assistant\"\n",
    ")\n",
    "\n",
    "def generate_sql(state:State) -> State:\n",
    "    user_message = HumanMessage(state[\"user_query\"])\n",
    "    messages = [generate_prompt,*state[\"messages\"],user_message]\n",
    "    res = model_low_temp.invoke(messages)\n",
    "    \n",
    "    return {\n",
    "        \"sql_query\":res,\n",
    "        \"messages\":[user_message,res],\n",
    "    }\n",
    "    \n",
    "explain_prompt = SystemMessage(\n",
    "    \"you are a professional supportive data analyst , who explain query to users\"\n",
    ")\n",
    "\n",
    "def explain_sql(state: State)->State:\n",
    "    messages=[\n",
    "        explain_prompt,\n",
    "        *state[\"messages\"],\n",
    "    ]\n",
    "    res = model_high_temp.invoke(messages)\n",
    "    \n",
    "    return {\n",
    "        \"sql_explation\":res,\n",
    "        \"messages\":res,\n",
    "    }\n",
    "\n",
    "builder = StateGraph(State,input=Input,output=Output)\n",
    "\n",
    "builder.add_node(\"generate_sql\",generate_sql)\n",
    "builder.add_node(\"explain_sql\",explain_sql)\n",
    "builder.add_edge(START,\"generate_sql\")\n",
    "builder.add_edge(\"generate_sql\",\"explain_sql\")\n",
    "builder.add_edge(\"explain_sql\",END)\n",
    "\n",
    "graph = builder.compile()\n",
    "\n",
    "result = graph.invoke({\"user_query\":\"what is the total sales for each product?\"})\n",
    "print(result)\n",
    "png_bytes = graph.get_graph().draw_mermaid_png()\n",
    "display(Image(png_bytes))"
   ]
  },
  {
   "cell_type": "markdown",
   "id": "d239e58f",
   "metadata": {},
   "source": [
    "### Architecture #3:Router"
   ]
  },
  {
   "cell_type": "code",
   "execution_count": 5,
   "id": "073170b8",
   "metadata": {},
   "outputs": [
    {
     "name": "stdout",
     "output_type": "stream",
     "text": [
      "{'router': {'domain': 'insurance', 'messages': [HumanMessage(content='Am i covered for multi personality disorder?', additional_kwargs={}, response_metadata={}, id='90e6581e-e5ea-4883-aa38-4a91fa1a1105'), 'insurance']}}\n",
      "{'retrieve_insurance_faqs': {'documents': [Document(id='57f98629-5da2-42e3-91eb-287e822f051f', metadata={'domain': 'insurance'}, page_content='Insurance policy details...'), Document(id='10a78c16-b8ef-4b87-9f55-9c89cfcf9013', metadata={'domain': 'records'}, page_content='Patient medical records...')]}}\n",
      "{'generate_answer': {'answer': \"Hello! I'd be happy to help you understand your insurance coverage. \\n\\nRegarding your question, the policy details document (id='57f98629-5da2-42e3-91eb-287e822f051f') doesn't explicitly mention coverage for Multi Personality Disorder (MPD). However, let's take a closer look at your medical records (document id='10a78c16-b8ef-4b87-9f55-9c89cfcf9013').\\n\\nAccording to your patient medical records, you have been diagnosed with MPD. This information is recorded in the document. \\n\\nIn general, most standard health insurance policies do not cover mental health conditions such as Multi Personality Disorder unless they are specifically listed under a separate section of the policy, or if there's an additional rider for mental health coverage.\\n\\nIf you're unsure about your specific coverage, I recommend reviewing the insurance policy details again and looking for any specific exclusions or limitations related to mental health conditions.\", 'messages': \"Hello! I'd be happy to help you understand your insurance coverage. \\n\\nRegarding your question, the policy details document (id='57f98629-5da2-42e3-91eb-287e822f051f') doesn't explicitly mention coverage for Multi Personality Disorder (MPD). However, let's take a closer look at your medical records (document id='10a78c16-b8ef-4b87-9f55-9c89cfcf9013').\\n\\nAccording to your patient medical records, you have been diagnosed with MPD. This information is recorded in the document. \\n\\nIn general, most standard health insurance policies do not cover mental health conditions such as Multi Personality Disorder unless they are specifically listed under a separate section of the policy, or if there's an additional rider for mental health coverage.\\n\\nIf you're unsure about your specific coverage, I recommend reviewing the insurance policy details again and looking for any specific exclusions or limitations related to mental health conditions.\"}}\n"
     ]
    },
    {
     "data": {
      "image/png": "[encoded data removed]",
      "text/plain": [
       "<IPython.core.display.Image object>"
      ]
     },
     "metadata": {},
     "output_type": "display_data"
    }
   ],
   "source": [
    "from typing import Annotated,Literal,TypedDict\n",
    "from IPython.display import Image, display\n",
    "from langchain_core.documents import Document\n",
    "from langchain_core.messages import HumanMessage,SystemMessage\n",
    "from langchain_core.vectorstores.in_memory import InMemoryVectorStore\n",
    "from langchain_ollama import OllamaLLM,OllamaEmbeddings\n",
    "from langgraph.graph import END,START,StateGraph\n",
    "from langgraph.graph.message import add_messages\n",
    "\n",
    "embeddings = OllamaEmbeddings(model=\"mxbai-embed-large:latest\")\n",
    "\n",
    "model_low_temp = OllamaLLM(model='llama3.2:3b',temprature = 0.3)\n",
    "\n",
    "model_hig_temp = OllamaLLM(model='llama3.2:3b',temprature=0.8)\n",
    "\n",
    "class State(TypedDict):\n",
    "    messages:Annotated[list,add_messages]\n",
    "    user_query:str #input \n",
    "    domain:Literal[\"records\",'insurance'] #output\n",
    "    documents:list[Document]\n",
    "    answer:str\n",
    "\n",
    "class Input(TypedDict):\n",
    "    user_query:str\n",
    "\n",
    "class Output(TypedDict):\n",
    "    documents:list[Document]\n",
    "    answer:str\n",
    "\n",
    "sample_docs=[\n",
    "    Document(page_content=\"Patient medical records...\",metadata={'domain':\"records\"}),\n",
    "    Document(\n",
    "        page_content=\"Insurance policy details...\",metadata={\"domain\":\"insurance\"})\n",
    "]\n",
    "\n",
    "medical_records_store = InMemoryVectorStore.from_documents(sample_docs,embeddings)\n",
    "medical_records_retriver = medical_records_store.as_retriever()\n",
    "\n",
    "insurance_faqs_store = InMemoryVectorStore.from_documents(sample_docs,embeddings)\n",
    "insurance_faqs_retriever = insurance_faqs_store.as_retriever()\n",
    "\n",
    "router_prompt = SystemMessage(\n",
    "    \"\"\"You need to decide which domain to route the user query to. You have two domains to choose from:\n",
    "- records: contains medical records of the patient, such as diagnosis, treatment, and prescriptions.\n",
    "- insurance: contains frequently asked questions about insurance policies, claims, and coverage.\n",
    "\n",
    "Output only the domain name.\"\"\"\n",
    ")\n",
    "def router_node(state:State)->State:\n",
    "    user_message = HumanMessage(state[\"user_query\"])\n",
    "    messages = [router_prompt,*state[\"messages\"],user_message]\n",
    "    res = model_low_temp.invoke(messages)\n",
    "    return {\n",
    "        \"domain\":res,\n",
    "        \"messages\":[user_message,res]\n",
    "    }\n",
    "\n",
    "def pick_retriever(state:State)->Literal[\"retrieve_medical_records\",\"retrieve_insurance_faqs\"]:\n",
    "    if state[\"domain\"]==\"records\":\n",
    "        return \"retrieve_medical_records\"\n",
    "    else:\n",
    "        return \"retrieve_insurance_faqs\"\n",
    "\n",
    "def retrieve_medical_records(state:State)->State:\n",
    "    documents = medical_records_retriver.invoke(state[\"user_query\"])\n",
    "    return {\n",
    "        \"documents\":documents\n",
    "    }\n",
    "\n",
    "def retrieve_insurance_faqs(state:State)->State:\n",
    "    documents = insurance_faqs_retriever.invoke(state[\"user_query\"])\n",
    "    return {\n",
    "        \"documents\":documents\n",
    "    }\n",
    "\n",
    "medical_records_prompt = SystemMessage(\n",
    "    \"You are a helpful medical chatbot, who answers questions based on the patient's medical records, such as diagnosis, treatment, and prescriptions.\"\n",
    ")\n",
    "\n",
    "insurance_faqs_prompt = SystemMessage(\n",
    "    \"You are a helpful medical insurance chatbot, who answers frequently asked questions about insurance policies, claims, and coverage.\"\n",
    ")\n",
    "\n",
    "def generate_answer(state:State)->State:\n",
    "    if state[\"domain\"]==\"records\":\n",
    "        prompt =medical_records_prompt\n",
    "    else:\n",
    "        prompt = insurance_faqs_prompt\n",
    "    messages=[\n",
    "        prompt,*state[\"messages\"],HumanMessage(f\"Documents:{state['documents']}\")\n",
    "    ]\n",
    "    res = model_hig_temp.invoke(messages)\n",
    "    return {\n",
    "        \"answer\":res,\n",
    "        \"messages\":res\n",
    "    }\n",
    "\n",
    "builder =StateGraph(State,input=Input,output =Output)\n",
    "builder.add_node(\"router\",router_node)\n",
    "builder.add_node(\"retrieve_medical_records\",retrieve_medical_records)\n",
    "builder.add_node(\"retrieve_insurance_faqs\",retrieve_insurance_faqs)\n",
    "builder.add_node(\"generate_answer\",generate_answer)\n",
    "builder.add_edge(START,\"router\")\n",
    "builder.add_conditional_edges(\"router\",pick_retriever)\n",
    "builder.add_edge(\"retrieve_medical_records\",\"generate_answer\")\n",
    "builder.add_edge(\"retrieve_insurance_faqs\",\"generate_answer\")\n",
    "builder.add_edge(\"generate_answer\",END)\n",
    "\n",
    "graph = builder.compile()\n",
    "input = {\"user_query\":\"Am i covered for multi personality disorder?\"}\n",
    "\n",
    "for chunk in graph.stream(input):\n",
    "    print(chunk)\n",
    "\n",
    "\n",
    "png_bytes = graph.get_graph().draw_mermaid_png()\n",
    "display(Image(png_bytes))"
   ]
  }
 ],
 "metadata": {
  "kernelspec": {
   "display_name": "GEN_ENV",
   "language": "python",
   "name": "python3"
  },
  "language_info": {
   "codemirror_mode": {
    "name": "ipython",
    "version": 3
   },
   "file_extension": ".py",
   "mimetype": "text/x-python",
   "name": "python",
   "nbconvert_exporter": "python",
   "pygments_lexer": "ipython3",
   "version": "3.11.13"
  }
 },
 "nbformat": 4,
 "nbformat_minor": 5
}
