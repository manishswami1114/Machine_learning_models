{
 "cells": [
  {
   "cell_type": "markdown",
   "id": "4e919825",
   "metadata": {},
   "source": [
    "# Using LangGraph to Add Memory to Your Chatbot"
   ]
  },
  {
   "cell_type": "markdown",
   "id": "5d117f76",
   "metadata": {},
   "source": [
    "## Building a ChatBot Memory System"
   ]
  },
  {
   "cell_type": "code",
   "execution_count": 1,
   "id": "7a153dbb",
   "metadata": {},
   "outputs": [
    {
     "data": {
      "text/plain": [
       "'<think>\\nOkay, the user asked, \"What is the capital of France?\" and I responded with \"The capital of France is Paris.\" Now they\\'re asking, \"What did you say just now?\" Let me make sure I understand their question correctly.\\n\\nThey want to know what I said in the previous message. Since I just provided the answer, I need to confirm that. The user might be checking if I remembered the correct answer or if there\\'s any confusion. I should restate the answer clearly to ensure they understand. Also, maybe they want to verify if my response was accurate. I should keep it simple and straightforward, just reiterating the information without any extra details. Let me make sure the response is polite and helpful.\\n</think>\\n\\nYou asked, \"What did you say just now?\"  \\nI replied, \"The capital of France is Paris.\"  \\nLet me know if you need further clarification! 😊'"
      ]
     },
     "execution_count": 1,
     "metadata": {},
     "output_type": "execute_result"
    }
   ],
   "source": [
    "from langchain_ollama import OllamaLLM\n",
    "from langchain_core.prompts import ChatPromptTemplate\n",
    "\n",
    "prompt = ChatPromptTemplate.from_messages([\n",
    "    (\"system\",\"\"\"You are a helpful assistant that can answer questions and help with tasks.\"\"\"),\n",
    "    ('placeholder',\"{messages}\")\n",
    "])\n",
    "model  = OllamaLLM(model='qwen3:1.7b')\n",
    "chain = prompt|model\n",
    "chain.invoke({\n",
    "    \"messages\":[\n",
    "        (\"human\",\"What is the capital of France?\"),\n",
    "        (\"ai\",\"The capital of France is Paris.\"),\n",
    "        (\"human\",\"what did you say just now?\")\n",
    "    ]\n",
    "})"
   ]
  },
  {
   "cell_type": "markdown",
   "id": "03e09ef6",
   "metadata": {},
   "source": [
    "***While this is simple and it works, when taking your application to production,you’ll*** ***facesomemore challenges related to managing memory at scale, such as:***\n",
    "\n",
    "You’ll need to update the memory after every interaction, atomically (i.e.,\n",
    "don’t record only the question or only the answer in the case of failure).\n",
    "\n",
    "You’ll want to store these memories in durable storage, such as a relational\n",
    "database.\n",
    "\n",
    "You’ll want to control how many and which messages are stored for later, and\n",
    "how many of these are used for new interactions.\n",
    "\n",
    "You’ll want to inspect and modify this state (for now, just a list of messages)\n",
    "outside a call to an LLM.\n",
    "\n",
    "We’ll now introduce some better tooling, which will help with this and all later\n",
    "chapters."
   ]
  },
  {
   "cell_type": "markdown",
   "id": "4d9f0f80",
   "metadata": {},
   "source": [
    "### Langgraph"
   ]
  },
  {
   "cell_type": "markdown",
   "id": "a95610dc",
   "metadata": {},
   "source": [
    "#### Creating a StateGraph"
   ]
  },
  {
   "cell_type": "code",
   "execution_count": 2,
   "id": "786f0aa7",
   "metadata": {},
   "outputs": [],
   "source": [
    "from typing import Annotated , TypedDict\n",
    "from langgraph.graph import StateGraph,START,END\n",
    "from langgraph.graph.message import add_messages\n",
    "from langchain_ollama import OllamaLLM\n",
    "from langchain_core.messages import HumanMessage\n",
    "\n",
    "class State(TypedDict):\n",
    "    messages:Annotated[list,add_messages]\n",
    "builder = StateGraph(State) # Create a state graph with name builder\n",
    "model=OllamaLLM(model=\"qwen3:1.7b\")\n",
    "\n",
    "def chatbot(state:State):\n",
    "    answer = model.invoke(state['messages'])\n",
    "    return {'messages':[answer]}\n",
    "\n",
    "\n",
    "builder.add_node('chatbot',chatbot) # Add a node to the graph\n",
    "\n",
    "builder.add_edge(START,'chatbot') # Add an edge from the start node to the chatbot node\n",
    "\n",
    "builder.add_edge('chatbot',END) # Add an edge from the chatbot node to the end node\n",
    "\n",
    "graph = builder.compile() # Compile the graph\n",
    "\n"
   ]
  },
  {
   "cell_type": "code",
   "execution_count": 3,
   "id": "4f6f8918",
   "metadata": {},
   "outputs": [
    {
     "data": {
      "image/png": "[encoded data removed]",
      "text/plain": [
       "<IPython.core.display.Image object>"
      ]
     },
     "metadata": {},
     "output_type": "display_data"
    }
   ],
   "source": [
    "# Get PNG OF graph  \n",
    "from IPython.display import Image, display\n",
    "\n",
    "png_bytes = graph.get_graph().draw_mermaid_png()\n",
    "display(Image(png_bytes))"
   ]
  },
  {
   "cell_type": "code",
   "execution_count": 4,
   "id": "acb5ac57",
   "metadata": {},
   "outputs": [
    {
     "name": "stdout",
     "output_type": "stream",
     "text": [
      "{'chatbot': {'messages': ['<think>\\nOkay, the user said \"hi!\" so I need to respond politely. Let me make sure my reply is friendly and open-ended. Maybe ask how they\\'re doing? That\\'s a common way to start a conversation. I should keep it simple and not too formal. Let me check for any grammar issues. Yep, looks good. Alright, time to send the response.\\n</think>\\n\\nHi! How are you doing today? 😊 I\\'m doing great, thanks! How about you?']}}\n"
     ]
    }
   ],
   "source": [
    "input = {'messages':[HumanMessage('hi!')]}\n",
    "for chunk in graph.stream(input):\n",
    "    print(chunk)"
   ]
  },
  {
   "cell_type": "markdown",
   "id": "7b6d3fac",
   "metadata": {},
   "source": [
    "#### Adding Memory to LangGraph "
   ]
  },
  {
   "cell_type": "code",
   "execution_count": 5,
   "id": "46b36857",
   "metadata": {},
   "outputs": [],
   "source": [
    "from langgraph.checkpoint.memory import MemorySaver\n",
    "\n",
    "graph = builder.compile(checkpointer = MemorySaver())"
   ]
  },
  {
   "cell_type": "markdown",
   "id": "1e74dbd6",
   "metadata": {},
   "source": [
    "**below code used as memory to chatbot**"
   ]
  },
  {
   "cell_type": "code",
   "execution_count": null,
   "id": "89524f4b",
   "metadata": {},
   "outputs": [
    {
     "name": "stdout",
     "output_type": "stream",
     "text": [
      "{'messages': [HumanMessage(content='hi, my name is manish', additional_kwargs={}, response_metadata={}, id='1ad8d702-4bc4-498f-89c0-d318a544773f'), HumanMessage(content='<think>\\nOkay, the user said, \"hi, my name is manish.\" So they\\'re introducing themselves. I need to respond in a friendly and helpful way.\\n\\nFirst, I should acknowledge their greeting. Maybe say \"Hello!\" to be polite. Then ask how they\\'re doing. \"How are you today?\" is a common question. \\n\\nThey mentioned their name, so I can add that to the response. \"My name is Manish\" – maybe use their name as is, but the user wrote \"manish\" with an \\'m\\' and \\'a\\'... Wait, the user wrote \"manish\" with an \\'m\\' and \\'a\\'? Wait, no, the user wrote \"manish\" – let me check. The original message was \"hi, my name is manish\". So \"manish\" is spelled with an \\'m\\' and \\'a\\'... Wait, no, actually, \"manish\" is spelled M-A-N-I-S-H. So the user wrote \"manish\" with an \\'m\\' and \\'a\\'... Wait, no, \"manish\" is spelled M-A-N-I-S-H. So the user\\'s name is Manish. So I should use their name as is. \\n\\nSo the response should be something like: \"Hello, Manish! How are you today? I\\'m doing well, thanks! Let me know if there\\'s anything I can help with.\" \\n\\nBut maybe the user wants a more casual response. Let me check the initial message again. The user just said \"hi, my name is manish\" – so they\\'re probably looking for a simple, friendly reply. \\n\\nI should make sure to use their name correctly. \"Manish\" is the correct spelling. So the response should be in that format. \\n\\nAlso, maybe add an emoji to keep it friendly. Like a smiley face. \\n\\nSo the final response would be: \"Hello, Manish! How are you today? I\\'m doing well, thanks! Let me know if there\\'s anything I can help with. 😊\"\\n</think>\\n\\nHello, Manish! How are you today? I\\'m doing well, thanks! Let me know if there\\'s anything I can help with. 😊', additional_kwargs={}, response_metadata={}, id='48d4799b-68dd-4ed1-a1b0-13f65afd1d83')]}\n",
      "{'messages': [HumanMessage(content='hi, my name is manish', additional_kwargs={}, response_metadata={}, id='1ad8d702-4bc4-498f-89c0-d318a544773f'), HumanMessage(content='<think>\\nOkay, the user said, \"hi, my name is manish.\" So they\\'re introducing themselves. I need to respond in a friendly and helpful way.\\n\\nFirst, I should acknowledge their greeting. Maybe say \"Hello!\" to be polite. Then ask how they\\'re doing. \"How are you today?\" is a common question. \\n\\nThey mentioned their name, so I can add that to the response. \"My name is Manish\" – maybe use their name as is, but the user wrote \"manish\" with an \\'m\\' and \\'a\\'... Wait, the user wrote \"manish\" with an \\'m\\' and \\'a\\'? Wait, no, the user wrote \"manish\" – let me check. The original message was \"hi, my name is manish\". So \"manish\" is spelled with an \\'m\\' and \\'a\\'... Wait, no, actually, \"manish\" is spelled M-A-N-I-S-H. So the user wrote \"manish\" with an \\'m\\' and \\'a\\'... Wait, no, \"manish\" is spelled M-A-N-I-S-H. So the user\\'s name is Manish. So I should use their name as is. \\n\\nSo the response should be something like: \"Hello, Manish! How are you today? I\\'m doing well, thanks! Let me know if there\\'s anything I can help with.\" \\n\\nBut maybe the user wants a more casual response. Let me check the initial message again. The user just said \"hi, my name is manish\" – so they\\'re probably looking for a simple, friendly reply. \\n\\nI should make sure to use their name correctly. \"Manish\" is the correct spelling. So the response should be in that format. \\n\\nAlso, maybe add an emoji to keep it friendly. Like a smiley face. \\n\\nSo the final response would be: \"Hello, Manish! How are you today? I\\'m doing well, thanks! Let me know if there\\'s anything I can help with. 😊\"\\n</think>\\n\\nHello, Manish! How are you today? I\\'m doing well, thanks! Let me know if there\\'s anything I can help with. 😊', additional_kwargs={}, response_metadata={}, id='48d4799b-68dd-4ed1-a1b0-13f65afd1d83'), HumanMessage(content='what is my name?', additional_kwargs={}, response_metadata={}, id='72e40f1a-4959-430e-a4f3-89c8a7e2aa55'), HumanMessage(content='<think>\\nOkay, the user asked, \"what is my name?\" after my previous response. They\\'re probably trying to confirm their name or maybe ask for more info. Since they mentioned their name as \"manish\" earlier, I should confirm that. But wait, in the initial message, the user wrote \"manish\" with an \\'m\\' and \\'a\\'... Wait, no, \"manish\" is spelled M-A-N-I-S-H. So their name is Manish. \\n\\nI need to make sure to respond correctly. The user might be confused if I used the wrong spelling. So I should clarify their name. Also, maybe add a friendly emoji. \\n\\nSo the response should be: \"Your name is Manish! 😊 Let me know if there\\'s anything I can help with.\" That way, it\\'s clear and friendly. Also, check if there\\'s any other info they need. Maybe ask if they want to continue the conversation. \\n\\nBut the user didn\\'t ask for anything else, so just confirm their name and offer help. Keep it simple and polite.\\n</think>\\n\\nYour name is Manish! 😊 Let me know if there\\'s anything I can help with.', additional_kwargs={}, response_metadata={}, id='037e13d8-79c0-45b1-a102-304eb6d5c815')]}\n",
      "StateSnapshot(values={'messages': [HumanMessage(content='hi, my name is manish', additional_kwargs={}, response_metadata={}, id='1ad8d702-4bc4-498f-89c0-d318a544773f'), HumanMessage(content='<think>\\nOkay, the user said, \"hi, my name is manish.\" So they\\'re introducing themselves. I need to respond in a friendly and helpful way.\\n\\nFirst, I should acknowledge their greeting. Maybe say \"Hello!\" to be polite. Then ask how they\\'re doing. \"How are you today?\" is a common question. \\n\\nThey mentioned their name, so I can add that to the response. \"My name is Manish\" – maybe use their name as is, but the user wrote \"manish\" with an \\'m\\' and \\'a\\'... Wait, the user wrote \"manish\" with an \\'m\\' and \\'a\\'? Wait, no, the user wrote \"manish\" – let me check. The original message was \"hi, my name is manish\". So \"manish\" is spelled with an \\'m\\' and \\'a\\'... Wait, no, actually, \"manish\" is spelled M-A-N-I-S-H. So the user wrote \"manish\" with an \\'m\\' and \\'a\\'... Wait, no, \"manish\" is spelled M-A-N-I-S-H. So the user\\'s name is Manish. So I should use their name as is. \\n\\nSo the response should be something like: \"Hello, Manish! How are you today? I\\'m doing well, thanks! Let me know if there\\'s anything I can help with.\" \\n\\nBut maybe the user wants a more casual response. Let me check the initial message again. The user just said \"hi, my name is manish\" – so they\\'re probably looking for a simple, friendly reply. \\n\\nI should make sure to use their name correctly. \"Manish\" is the correct spelling. So the response should be in that format. \\n\\nAlso, maybe add an emoji to keep it friendly. Like a smiley face. \\n\\nSo the final response would be: \"Hello, Manish! How are you today? I\\'m doing well, thanks! Let me know if there\\'s anything I can help with. 😊\"\\n</think>\\n\\nHello, Manish! How are you today? I\\'m doing well, thanks! Let me know if there\\'s anything I can help with. 😊', additional_kwargs={}, response_metadata={}, id='48d4799b-68dd-4ed1-a1b0-13f65afd1d83'), HumanMessage(content='what is my name?', additional_kwargs={}, response_metadata={}, id='72e40f1a-4959-430e-a4f3-89c8a7e2aa55'), HumanMessage(content='<think>\\nOkay, the user asked, \"what is my name?\" after my previous response. They\\'re probably trying to confirm their name or maybe ask for more info. Since they mentioned their name as \"manish\" earlier, I should confirm that. But wait, in the initial message, the user wrote \"manish\" with an \\'m\\' and \\'a\\'... Wait, no, \"manish\" is spelled M-A-N-I-S-H. So their name is Manish. \\n\\nI need to make sure to respond correctly. The user might be confused if I used the wrong spelling. So I should clarify their name. Also, maybe add a friendly emoji. \\n\\nSo the response should be: \"Your name is Manish! 😊 Let me know if there\\'s anything I can help with.\" That way, it\\'s clear and friendly. Also, check if there\\'s any other info they need. Maybe ask if they want to continue the conversation. \\n\\nBut the user didn\\'t ask for anything else, so just confirm their name and offer help. Keep it simple and polite.\\n</think>\\n\\nYour name is Manish! 😊 Let me know if there\\'s anything I can help with.', additional_kwargs={}, response_metadata={}, id='037e13d8-79c0-45b1-a102-304eb6d5c815')]}, next=(), config={'configurable': {'thread_id': '1', 'checkpoint_ns': '', 'checkpoint_id': '1f0856e9-2d47-6484-8004-e4a95bd708d8'}}, metadata={'source': 'loop', 'writes': {'chatbot': {'messages': ['<think>\\nOkay, the user asked, \"what is my name?\" after my previous response. They\\'re probably trying to confirm their name or maybe ask for more info. Since they mentioned their name as \"manish\" earlier, I should confirm that. But wait, in the initial message, the user wrote \"manish\" with an \\'m\\' and \\'a\\'... Wait, no, \"manish\" is spelled M-A-N-I-S-H. So their name is Manish. \\n\\nI need to make sure to respond correctly. The user might be confused if I used the wrong spelling. So I should clarify their name. Also, maybe add a friendly emoji. \\n\\nSo the response should be: \"Your name is Manish! 😊 Let me know if there\\'s anything I can help with.\" That way, it\\'s clear and friendly. Also, check if there\\'s any other info they need. Maybe ask if they want to continue the conversation. \\n\\nBut the user didn\\'t ask for anything else, so just confirm their name and offer help. Keep it simple and polite.\\n</think>\\n\\nYour name is Manish! 😊 Let me know if there\\'s anything I can help with.']}}, 'thread_id': '1', 'step': 4, 'parents': {}}, created_at='2025-08-30T06:57:20.477873+00:00', parent_config={'configurable': {'thread_id': '1', 'checkpoint_ns': '', 'checkpoint_id': '1f0856e8-be22-664e-8003-9fd97f4b4448'}}, tasks=())\n"
     ]
    }
   ],
   "source": [
    "thread1 = {'configurable':{\"thread_id\":\"1\"}} # Create a memory box with id 1\n",
    "\n",
    "result_1 = graph.invoke({\"messages\":[HumanMessage('hi, my name is manish')]},thread1) # call the chatbot with a message and result_1 store the response\n",
    "print(result_1)\n",
    "result_2 = graph.invoke(\n",
    "    {\"messages\":[HumanMessage(\"what is my name?\")]},thread1\n",
    ")\n",
    "print(result_2)\n"
   ]
  },
  {
   "cell_type": "code",
   "execution_count": null,
   "id": "0ca84c4b",
   "metadata": {},
   "outputs": [
    {
     "data": {
      "text/plain": [
       "StateSnapshot(values={'messages': [HumanMessage(content='hi, my name is manish', additional_kwargs={}, response_metadata={}, id='1ad8d702-4bc4-498f-89c0-d318a544773f'), HumanMessage(content='<think>\\nOkay, the user said, \"hi, my name is manish.\" So they\\'re introducing themselves. I need to respond in a friendly and helpful way.\\n\\nFirst, I should acknowledge their greeting. Maybe say \"Hello!\" to be polite. Then ask how they\\'re doing. \"How are you today?\" is a common question. \\n\\nThey mentioned their name, so I can add that to the response. \"My name is Manish\" – maybe use their name as is, but the user wrote \"manish\" with an \\'m\\' and \\'a\\'... Wait, the user wrote \"manish\" with an \\'m\\' and \\'a\\'? Wait, no, the user wrote \"manish\" – let me check. The original message was \"hi, my name is manish\". So \"manish\" is spelled with an \\'m\\' and \\'a\\'... Wait, no, actually, \"manish\" is spelled M-A-N-I-S-H. So the user wrote \"manish\" with an \\'m\\' and \\'a\\'... Wait, no, \"manish\" is spelled M-A-N-I-S-H. So the user\\'s name is Manish. So I should use their name as is. \\n\\nSo the response should be something like: \"Hello, Manish! How are you today? I\\'m doing well, thanks! Let me know if there\\'s anything I can help with.\" \\n\\nBut maybe the user wants a more casual response. Let me check the initial message again. The user just said \"hi, my name is manish\" – so they\\'re probably looking for a simple, friendly reply. \\n\\nI should make sure to use their name correctly. \"Manish\" is the correct spelling. So the response should be in that format. \\n\\nAlso, maybe add an emoji to keep it friendly. Like a smiley face. \\n\\nSo the final response would be: \"Hello, Manish! How are you today? I\\'m doing well, thanks! Let me know if there\\'s anything I can help with. 😊\"\\n</think>\\n\\nHello, Manish! How are you today? I\\'m doing well, thanks! Let me know if there\\'s anything I can help with. 😊', additional_kwargs={}, response_metadata={}, id='48d4799b-68dd-4ed1-a1b0-13f65afd1d83'), HumanMessage(content='what is my name?', additional_kwargs={}, response_metadata={}, id='72e40f1a-4959-430e-a4f3-89c8a7e2aa55'), HumanMessage(content='<think>\\nOkay, the user asked, \"what is my name?\" after my previous response. They\\'re probably trying to confirm their name or maybe ask for more info. Since they mentioned their name as \"manish\" earlier, I should confirm that. But wait, in the initial message, the user wrote \"manish\" with an \\'m\\' and \\'a\\'... Wait, no, \"manish\" is spelled M-A-N-I-S-H. So their name is Manish. \\n\\nI need to make sure to respond correctly. The user might be confused if I used the wrong spelling. So I should clarify their name. Also, maybe add a friendly emoji. \\n\\nSo the response should be: \"Your name is Manish! 😊 Let me know if there\\'s anything I can help with.\" That way, it\\'s clear and friendly. Also, check if there\\'s any other info they need. Maybe ask if they want to continue the conversation. \\n\\nBut the user didn\\'t ask for anything else, so just confirm their name and offer help. Keep it simple and polite.\\n</think>\\n\\nYour name is Manish! 😊 Let me know if there\\'s anything I can help with.', additional_kwargs={}, response_metadata={}, id='037e13d8-79c0-45b1-a102-304eb6d5c815')]}, next=(), config={'configurable': {'thread_id': '1', 'checkpoint_ns': '', 'checkpoint_id': '1f0856e9-2d47-6484-8004-e4a95bd708d8'}}, metadata={'source': 'loop', 'writes': {'chatbot': {'messages': ['<think>\\nOkay, the user asked, \"what is my name?\" after my previous response. They\\'re probably trying to confirm their name or maybe ask for more info. Since they mentioned their name as \"manish\" earlier, I should confirm that. But wait, in the initial message, the user wrote \"manish\" with an \\'m\\' and \\'a\\'... Wait, no, \"manish\" is spelled M-A-N-I-S-H. So their name is Manish. \\n\\nI need to make sure to respond correctly. The user might be confused if I used the wrong spelling. So I should clarify their name. Also, maybe add a friendly emoji. \\n\\nSo the response should be: \"Your name is Manish! 😊 Let me know if there\\'s anything I can help with.\" That way, it\\'s clear and friendly. Also, check if there\\'s any other info they need. Maybe ask if they want to continue the conversation. \\n\\nBut the user didn\\'t ask for anything else, so just confirm their name and offer help. Keep it simple and polite.\\n</think>\\n\\nYour name is Manish! 😊 Let me know if there\\'s anything I can help with.']}}, 'thread_id': '1', 'step': 4, 'parents': {}}, created_at='2025-08-30T06:57:20.477873+00:00', parent_config={'configurable': {'thread_id': '1', 'checkpoint_ns': '', 'checkpoint_id': '1f0856e8-be22-664e-8003-9fd97f4b4448'}}, tasks=())"
      ]
     },
     "execution_count": 8,
     "metadata": {},
     "output_type": "execute_result"
    }
   ],
   "source": [
    "graph.get_state(thread1) # return the current state of Thread"
   ]
  },
  {
   "cell_type": "markdown",
   "id": "6dfa550d",
   "metadata": {},
   "source": [
    "### Modifying Chat History"
   ]
  },
  {
   "cell_type": "markdown",
   "id": "80aa7288",
   "metadata": {},
   "source": [
    "#### Trimming Messages"
   ]
  },
  {
   "cell_type": "code",
   "execution_count": 10,
   "id": "fcdb2181",
   "metadata": {},
   "outputs": [
    {
     "name": "stderr",
     "output_type": "stream",
     "text": [
      "/opt/anaconda3/envs/GEN_ENV/lib/python3.11/site-packages/tqdm/auto.py:21: TqdmWarning: IProgress not found. Please update jupyter and ipywidgets. See https://ipywidgets.readthedocs.io/en/stable/user_install.html\n",
      "  from .autonotebook import tqdm as notebook_tqdm\n"
     ]
    },
    {
     "name": "stdout",
     "output_type": "stream",
     "text": [
      "[SystemMessage(content=\"you're a good assistant\", additional_kwargs={}, response_metadata={}), HumanMessage(content=\"hi! I'm manish\", additional_kwargs={}, response_metadata={}), AIMessage(content='hi!', additional_kwargs={}, response_metadata={}), HumanMessage(content='I like vanilla ice cream', additional_kwargs={}, response_metadata={}), AIMessage(content='nice', additional_kwargs={}, response_metadata={}), HumanMessage(content='whats 2 + 2', additional_kwargs={}, response_metadata={}), AIMessage(content='4', additional_kwargs={}, response_metadata={}), HumanMessage(content='thanks', additional_kwargs={}, response_metadata={}), AIMessage(content='no problem!', additional_kwargs={}, response_metadata={}), HumanMessage(content='having fun?', additional_kwargs={}, response_metadata={}), AIMessage(content='yes!', additional_kwargs={}, response_metadata={})]\n"
     ]
    }
   ],
   "source": [
    "from langchain_core.messages import SystemMessage,trim_messages,HumanMessage,AIMessage\n",
    "\n",
    "messages = [\n",
    "    SystemMessage(content=\"you're a good assistant\"),\n",
    "    HumanMessage(content=\"hi! I'm manish\"),\n",
    "    AIMessage(content=\"hi!\"),\n",
    "    HumanMessage(content=\"I like vanilla ice cream\"),\n",
    "    AIMessage(content=\"nice\"),\n",
    "    HumanMessage(content=\"whats 2 + 2\"),\n",
    "    AIMessage(content=\"4\"),\n",
    "    HumanMessage(content=\"thanks\"),\n",
    "    AIMessage(content=\"no problem!\"),\n",
    "    HumanMessage(content=\"having fun?\"),\n",
    "    AIMessage(content=\"yes!\"),\n",
    "]\n",
    "trimmer = trim_messages(\n",
    "    max_tokens = 65,\n",
    "    strategy =\"last\",\n",
    "    token_counter = OllamaLLM(model=\"llama3.2:3b\"),\n",
    "    include_system = True,\n",
    "    allow_partial=False,\n",
    "    start_on=\"human\",\n",
    ")\n",
    "\n",
    "trimmed = trimmer.invoke(messages)\n",
    "print(trimmed)\n"
   ]
  },
  {
   "cell_type": "markdown",
   "id": "78cdeea2",
   "metadata": {},
   "source": [
    "#### Filtering Messages"
   ]
  },
  {
   "cell_type": "code",
   "execution_count": 8,
   "id": "5aa4e366",
   "metadata": {},
   "outputs": [
    {
     "name": "stdout",
     "output_type": "stream",
     "text": [
      "Human messages: [HumanMessage(content='example input', additional_kwargs={}, response_metadata={}, name='example_user', id='2'), HumanMessage(content='real input', additional_kwargs={}, response_metadata={}, name='bob', id='4')]\n",
      "\n",
      "Excluding example names: [SystemMessage(content='you are a good assistant', additional_kwargs={}, response_metadata={}, id='1'), HumanMessage(content='real input', additional_kwargs={}, response_metadata={}, name='bob', id='4'), AIMessage(content='real output', additional_kwargs={}, response_metadata={}, name='alice', id='5')]\n",
      "\n",
      "Filtered by types and IDs: [HumanMessage(content='example input', additional_kwargs={}, response_metadata={}, name='example_user', id='2'), HumanMessage(content='real input', additional_kwargs={}, response_metadata={}, name='bob', id='4'), AIMessage(content='real output', additional_kwargs={}, response_metadata={}, name='alice', id='5')]\n"
     ]
    }
   ],
   "source": [
    "from langchain_core.messages import (\n",
    "    AIMessage,\n",
    "    HumanMessage,\n",
    "    SystemMessage,\n",
    "    filter_messages,\n",
    ")\n",
    "\n",
    "# Sample messages\n",
    "messages = [\n",
    "    SystemMessage(content=\"you are a good assistant\", id=\"1\"),\n",
    "    HumanMessage(content=\"example input\", id=\"2\", name=\"example_user\"),\n",
    "    AIMessage(content=\"example output\", id=\"3\", name=\"example_assistant\"),\n",
    "    HumanMessage(content=\"real input\", id=\"4\", name=\"bob\"),\n",
    "    AIMessage(content=\"real output\", id=\"5\", name=\"alice\"),\n",
    "]\n",
    "human_messages = filter_messages(messages,include_types = \"human\")\n",
    "print(\"Human messages:\", human_messages)\n",
    "\n",
    "excluded_name = filter_messages(\n",
    "    messages,exclude_names=['example_user','example_assistant']\n",
    ")\n",
    "\n",
    "print(\"\\nExcluding example names:\", excluded_name)\n",
    "\n",
    "filtered_messages = filter_messages(\n",
    "    messages,include_types=[\"human\",\"ai\"],exclude_ids=[\"3\"]\n",
    "    \n",
    ")\n",
    "print(\"\\nFiltered by types and IDs:\",filtered_messages)\n"
   ]
  },
  {
   "cell_type": "code",
   "execution_count": 9,
   "id": "ae2d9aa5",
   "metadata": {},
   "outputs": [
    {
     "name": "stdout",
     "output_type": "stream",
     "text": [
      "first=RunnableLambda(...) middle=[] last=OllamaLLM(model='qwen3:1.7b')\n"
     ]
    }
   ],
   "source": [
    "filter = filter_messages(excluded_name=[\"example_user\"])\n",
    "chain = filter|model\n",
    "print(chain)"
   ]
  },
  {
   "cell_type": "markdown",
   "id": "606dbd0c",
   "metadata": {},
   "source": [
    "#### Merging Consecutive Messages"
   ]
  },
  {
   "cell_type": "code",
   "execution_count": 11,
   "id": "018a0825",
   "metadata": {},
   "outputs": [
    {
     "name": "stdout",
     "output_type": "stream",
     "text": [
      "[SystemMessage(content=\"you're a good assistant.\\nyou always respond with a joke.\", additional_kwargs={}, response_metadata={}), HumanMessage(content=[{'type': 'text', 'text': \"i wonder why it's called langchain\"}, 'and who is harrison chasing anyways'], additional_kwargs={}, response_metadata={}), AIMessage(content='Well, I guess they thought \"WordRope\" and \"SentenceString\" just didn\\'t have the same ring to it!\\nWhy, he\\'s probably chasing after the last cup of coffee in the office!', additional_kwargs={}, response_metadata={}), SystemMessage(content='how good this function is lets see', additional_kwargs={}, response_metadata={})]\n"
     ]
    }
   ],
   "source": [
    "from langchain_core.messages import merge_message_runs\n",
    "messages = [\n",
    "    SystemMessage(content=\"you're a good assistant.\"),\n",
    "    SystemMessage(content=\"you always respond with a joke.\"),\n",
    "    HumanMessage(\n",
    "        content=[{\"type\": \"text\", \"text\": \"i wonder why it's called langchain\"}]\n",
    "    ),\n",
    "    HumanMessage(content=\"and who is harrison chasing anyways\"),\n",
    "    AIMessage(\n",
    "        content='Well, I guess they thought \"WordRope\" and \"SentenceString\" just didn\\'t have the same ring to it!'\n",
    "    ),\n",
    "    AIMessage(\n",
    "        content=\"Why, he's probably chasing after the last cup of coffee in the office!\"\n",
    "    ),\n",
    "    SystemMessage(content=\"how good this function is lets see\"),\n",
    "]\n",
    "merged = merge_message_runs(messages)\n",
    "print(merged)"
   ]
  },
  {
   "cell_type": "code",
   "execution_count": 12,
   "id": "afe8106c",
   "metadata": {},
   "outputs": [],
   "source": [
    "merger = merge_message_runs()\n",
    "chain = merger | model"
   ]
  }
 ],
 "metadata": {
  "kernelspec": {
   "display_name": "GEN_ENV",
   "language": "python",
   "name": "python3"
  },
  "language_info": {
   "codemirror_mode": {
    "name": "ipython",
    "version": 3
   },
   "file_extension": ".py",
   "mimetype": "text/x-python",
   "name": "python",
   "nbconvert_exporter": "python",
   "pygments_lexer": "ipython3",
   "version": "3.11.13"
  }
 },
 "nbformat": 4,
 "nbformat_minor": 5
}
